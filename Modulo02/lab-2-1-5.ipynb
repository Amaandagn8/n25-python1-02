{
 "cells": [
  {
   "cell_type": "markdown",
   "metadata": {},
   "source": [
    "# Laboratorio 2-1-5"
   ]
  },
  {
   "cell_type": "code",
   "execution_count": 81,
   "metadata": {},
   "outputs": [
    {
     "name": "stdout",
     "output_type": "stream",
     "text": [
      "Olá, Python!\n",
      "Amanda\n"
     ]
    }
   ],
   "source": [
    "print(\"Olá, Python!\") \n",
    "print('Amanda')"
   ]
  },
  {
   "cell_type": "markdown",
   "metadata": {},
   "source": [
    "### Continuando sobre o print"
   ]
  },
  {
   "cell_type": "code",
   "execution_count": 82,
   "metadata": {},
   "outputs": [
    {
     "name": "stdout",
     "output_type": "stream",
     "text": [
      "A pequenina aranha escalou a tromba d'água.\n",
      "\n",
      "Caiu a chuva e lavou a aranha.\n"
     ]
    }
   ],
   "source": [
    "print(\"A pequenina aranha escalou a tromba d'água.\")\n",
    "print()\n",
    "print(\"Caiu a chuva e lavou a aranha.\")\n"
   ]
  },
  {
   "cell_type": "code",
   "execution_count": 83,
   "metadata": {},
   "outputs": [
    {
     "name": "stdout",
     "output_type": "stream",
     "text": [
      "\"\n",
      "\\\n",
      "1234\t5678\t90\n",
      "abc\tde\tf\n"
     ]
    }
   ],
   "source": [
    "print(\"\\\"\")\n",
    "print(\"\\\\\")\n",
    "print(\"1234\\t5678\\t90\")\n",
    "print(\"abc\\tde\\tf\")"
   ]
  },
  {
   "cell_type": "markdown",
   "metadata": {},
   "source": [
    "### Print com vários argumentos"
   ]
  },
  {
   "cell_type": "code",
   "execution_count": 84,
   "metadata": {},
   "outputs": [
    {
     "name": "stdout",
     "output_type": "stream",
     "text": [
      "A aranha pequenininha subiu a tromba d'água.\n"
     ]
    }
   ],
   "source": [
    "print(\"A aranha pequenininha\" , \"subiu\" , \"a tromba d'água.\")"
   ]
  },
  {
   "cell_type": "markdown",
   "metadata": {},
   "source": [
    "### Argumento palavra-chave (nomeado)"
   ]
  },
  {
   "cell_type": "code",
   "execution_count": 85,
   "metadata": {},
   "outputs": [
    {
     "name": "stdout",
     "output_type": "stream",
     "text": [
      "Meu nome é Python. Monty Python.\n",
      "Meu-nome-é-Monty-Python.\n"
     ]
    }
   ],
   "source": [
    "print(\"Meu nome é\", \"Python.\", end=\" \")\n",
    "print(\"Monty Python.\")\n",
    "print(\"Meu\", \"nome\", \"é\", \"Monty\", \"Python.\", sep=\"-\")\n"
   ]
  },
  {
   "cell_type": "code",
   "execution_count": 86,
   "metadata": {},
   "outputs": [
    {
     "name": "stdout",
     "output_type": "stream",
     "text": [
      "Meu_nome_é*Monty*Python.*\n"
     ]
    }
   ],
   "source": [
    "print(\"Meu\", \"nome\", \"é\", sep=\"_\", end=\"*\")\n",
    "print(\"Monty\", \"Python.\", sep=\"*\", end=\"*\\n\")"
   ]
  },
  {
   "cell_type": "markdown",
   "metadata": {},
   "source": [
    "## Laboratório 2-1-12\n",
    "#### Saída esperada: \n",
    "```python\n",
    "Programação***Essenciais***em...Python\n",
    "```"
   ]
  },
  {
   "cell_type": "code",
   "execution_count": 87,
   "metadata": {},
   "outputs": [
    {
     "name": "stdout",
     "output_type": "stream",
     "text": [
      "Programação***Essenciais***em...Python\n"
     ]
    }
   ],
   "source": [
    "print(\"Programação\",\"Essenciais\",\"em\",sep=\"***\",end=\"...\")\n",
    "print(\"Python\")"
   ]
  },
  {
   "cell_type": "code",
   "execution_count": 88,
   "metadata": {},
   "outputs": [
    {
     "name": "stdout",
     "output_type": "stream",
     "text": [
      "argumento1-argumento2\n"
     ]
    }
   ],
   "source": [
    "# Isso eu não posso fazer\n",
    "# print(sep=\"-\",\"argumento1\",\"argumento2\")\n",
    "print(\"argumento1\",\"argumento2\", sep=\"-\")"
   ]
  },
  {
   "cell_type": "markdown",
   "metadata": {},
   "source": [
    "### Laboratório 2-1-13"
   ]
  },
  {
   "cell_type": "code",
   "execution_count": 101,
   "metadata": {},
   "outputs": [
    {
     "name": "stdout",
     "output_type": "stream",
     "text": [
      "    *        *        *        *    \n",
      "   * *      * *      * *      * *   \n",
      "  *   *    *   *    *   *    *   *  \n",
      " *     *  *     *  *     *  *     * \n",
      "***   ******   ******   ******   ***\n",
      "  *   *    *   *    *   *    *   *  \n",
      "  *   *    *   *    *   *    *   *  \n",
      "  *****    *****    *****    *****  \n"
     ]
    }
   ],
   "source": [
    "print(\"    *    \"*4)\n",
    "print(\"   * *   \"*4)\n",
    "print(\"  *   *  \"*4)\n",
    "print(\" *     * \"*4)\n",
    "print(\"***   ***\"*4)\n",
    "print(\"  *   *  \"*4)\n",
    "print(\"  *   *  \"*4)\n",
    "print(\"  *****  \"*4)"
   ]
  }
 ],
 "metadata": {
  "kernelspec": {
   "display_name": ".venv",
   "language": "python",
   "name": "python3"
  },
  "language_info": {
   "codemirror_mode": {
    "name": "ipython",
    "version": 3
   },
   "file_extension": ".py",
   "mimetype": "text/x-python",
   "name": "python",
   "nbconvert_exporter": "python",
   "pygments_lexer": "ipython3",
   "version": "3.13.2"
  }
 },
 "nbformat": 4,
 "nbformat_minor": 2
}
