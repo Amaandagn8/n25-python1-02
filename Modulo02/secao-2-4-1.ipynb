{
 "cells": [
  {
   "cell_type": "markdown",
   "metadata": {},
   "source": [
    "# Variáveis"
   ]
  },
  {
   "cell_type": "markdown",
   "metadata": {},
   "source": [
    "### Regras para o nome de uma variável\n",
    "- Deve-se iniciar com letra ou _\n",
    "- Não pode conter carater especial\n",
    "- Pode-se usar letras, números ou _\n",
    "- O python faz diferença entre maiúsculas e minúsculas\n",
    "- E não pode ser uma palavra reservada do python"
   ]
  },
  {
   "cell_type": "markdown",
   "metadata": {},
   "source": [
    "### Laboratório 2.4.7\n",
    "Cenário: \n",
    "Era uma vez em Appleland, John tinha três maçãs, Maria cinco maçãs e Adam tinha seis maças. Todos ficaram muito felizes e viveram por muito tempo. Fim da história.\n",
    "\n",
    "Sua tarefa:\n",
    "- crie as variáveis: john, mary e adam;\n",
    "- atribuir valores às variáveis. Os valores devem ser iguais aos números de fruto possuído por John, Mary e Adam, respectivamente;\n",
    "- tendo armazenado os números nas variáveis, imprimindo as variáveis em uma linha e separando cada uma delas com uma vírgula;\n",
    "- Agora, crie uma nova variável chamada total_apples igual à adição das três variáveis anteriores.\n",
    "- imprima o valor armazenado em total_apples no console;\n",
    "- experimente com seu código: crie novas variáveis, atribua valores diferentes a elas e execute várias operações aritméticas nelas (por exemplo, +, -, *, /, //, etc.).\n",
    "- Tente imprimir uma -sequência de caracteres e um número inteiro juntos em uma linha, por exemplo, \"Número total de maças:\" e total_apples."
   ]
  },
  {
   "cell_type": "code",
   "execution_count": 17,
   "metadata": {},
   "outputs": [
    {
     "name": "stdout",
     "output_type": "stream",
     "text": [
      "3, 5, 6\n",
      "14\n"
     ]
    }
   ],
   "source": [
    "john = 3\n",
    "mary = 5\n",
    "adam = 6\n",
    "print(john, mary, adam, sep=', ')\n",
    "\n",
    "total_apples = john + mary + adam\n",
    "print(total_apples)\n",
    "\n"
   ]
  },
  {
   "cell_type": "markdown",
   "metadata": {},
   "source": [
    "### Operador de atalho\n",
    "operador = operador operacao valor => operador operacao= valor\n",
    "resumindo\n",
    "idade = idade + 5 => idade += 5"
   ]
  },
  {
   "cell_type": "code",
   "execution_count": 7,
   "metadata": {},
   "outputs": [
    {
     "name": "stdout",
     "output_type": "stream",
     "text": [
      "2\n",
      "14\n"
     ]
    }
   ],
   "source": [
    "variavel = 2\n",
    "#variavel = variavel + 5 \n",
    "#variavel += 5\n",
    "print(variavel)\n",
    "variavel *= 5 + 2\n",
    "print(variavel)\n"
   ]
  },
  {
   "cell_type": "markdown",
   "metadata": {},
   "source": [
    "### Laboratório 2.4.9"
   ]
  },
  {
   "cell_type": "code",
   "execution_count": 2,
   "metadata": {},
   "outputs": [
    {
     "name": "stdout",
     "output_type": "stream",
     "text": [
      "7.38 milhas é 11.88 quilômetros\n",
      "12.25 quilômetros é 7.61 milhas\n"
     ]
    }
   ],
   "source": [
    "kilometers = 12.25\n",
    "miles = 7.38\n",
    "one_mile_in_km = 1.61\n",
    "\n",
    "miles_to_kilometers = miles * one_mile_in_km\n",
    "kilometers_to_miles = kilometers / one_mile_in_km\n",
    "\n",
    "print(miles, \"milhas é\", round(miles_to_kilometers, 2), \"quilômetros\")\n",
    "print(kilometers, \"quilômetros é\", round(kilometers_to_miles, 2), \"milhas\")"
   ]
  },
  {
   "cell_type": "markdown",
   "metadata": {},
   "source": [
    "### Laboratório 2.4.10\n",
    "3x³ - 2x² + 3x - 1\n",
    "\n",
    "| Exemplo de entrada:|\n",
    "| - |\n",
    "| x = 0 |\n",
    "| x = 1 |\n",
    "| x = -1 |\n",
    "-\n",
    "| Exemplo de saída:|\n",
    "| - |\n",
    "| y = -1.0 |\n",
    "| y = 3.0 | \n",
    "| y = -9.0 |"
   ]
  },
  {
   "cell_type": "code",
   "execution_count": 8,
   "metadata": {},
   "outputs": [
    {
     "name": "stdout",
     "output_type": "stream",
     "text": [
      "y = 3.0\n"
     ]
    }
   ],
   "source": [
    "x = 1 # Codifique seus dados de teste aqui.\n",
    "x = float(x)\n",
    "# Escreva seu código aqui.\n",
    "y = (3 * x ** 3) - (2 * x ** 2) + (3 * x) - 1\n",
    "print(\"y =\", y)\n"
   ]
  }
 ],
 "metadata": {
  "kernelspec": {
   "display_name": ".venv",
   "language": "python",
   "name": "python3"
  },
  "language_info": {
   "codemirror_mode": {
    "name": "ipython",
    "version": 3
   },
   "file_extension": ".py",
   "mimetype": "text/x-python",
   "name": "python",
   "nbconvert_exporter": "python",
   "pygments_lexer": "ipython3",
   "version": "3.13.2"
  }
 },
 "nbformat": 4,
 "nbformat_minor": 2
}
