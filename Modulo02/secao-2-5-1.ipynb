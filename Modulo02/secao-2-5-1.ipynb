{
 "cells": [
  {
   "cell_type": "markdown",
   "metadata": {},
   "source": [
    "# Comentários"
   ]
  },
  {
   "cell_type": "code",
   "execution_count": null,
   "metadata": {},
   "outputs": [
    {
     "name": "stdout",
     "output_type": "stream",
     "text": [
      "Hello World!\n"
     ]
    }
   ],
   "source": [
    "# Linha1 - para comentário de uma linha, use o caractere #\n",
    "# Linha2 - comentário não tem efeito algum sobre o código\n",
    "# Linha3 - Atalho no VS Code pra adicionar comentário: CTRL ;\n",
    "print(\"Hello World!\") # também é possível adicionar comentário após o comando\n"
   ]
  },
  {
   "cell_type": "code",
   "execution_count": null,
   "metadata": {},
   "outputs": [
    {
     "data": {
      "text/plain": [
       "' \\nPara comentários de múltiplas linhas, use aspas triplas\\nou aspas simples triplas\\n'"
      ]
     },
     "execution_count": 9,
     "metadata": {},
     "output_type": "execute_result"
    }
   ],
   "source": [
    "\"\"\" \n",
    "Para comentários de múltiplas linhas, use aspas triplas\n",
    "ou aspas simples triplas\n",
    "\"\"\"\n",
    "\n",
    "''' Dessa forma \n",
    "também funciona'''\n"
   ]
  }
 ],
 "metadata": {
  "kernelspec": {
   "display_name": ".venv",
   "language": "python",
   "name": "python3"
  },
  "language_info": {
   "codemirror_mode": {
    "name": "ipython",
    "version": 3
   },
   "file_extension": ".py",
   "mimetype": "text/x-python",
   "name": "python",
   "nbconvert_exporter": "python",
   "pygments_lexer": "ipython3",
   "version": "3.13.2"
  }
 },
 "nbformat": 4,
 "nbformat_minor": 2
}
