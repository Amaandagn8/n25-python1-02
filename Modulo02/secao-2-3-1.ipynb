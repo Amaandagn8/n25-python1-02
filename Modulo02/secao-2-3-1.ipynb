{
 "cells": [
  {
   "cell_type": "markdown",
   "metadata": {},
   "source": [
    "# Operadores em Python\n",
    "### Python como Calculadora"
   ]
  },
  {
   "cell_type": "code",
   "execution_count": 44,
   "metadata": {},
   "outputs": [
    {
     "name": "stdout",
     "output_type": "stream",
     "text": [
      "4\n"
     ]
    }
   ],
   "source": [
    "print(2+2)"
   ]
  },
  {
   "cell_type": "markdown",
   "metadata": {},
   "source": [
    "### Operadores Básicos\n",
    "#### Operador de Exponenciação ( ** )"
   ]
  },
  {
   "cell_type": "code",
   "execution_count": 45,
   "metadata": {},
   "outputs": [
    {
     "name": "stdout",
     "output_type": "stream",
     "text": [
      "8\n",
      "8.0\n",
      "8.0\n",
      "8.0\n"
     ]
    }
   ],
   "source": [
    "print( 2 ** 3 ) # 2 elevado a 3 é igual 2x2x2=8\n",
    "print( 2.0 ** 3 )\n",
    "print( 2 ** 3.0)\n",
    "print( 2.0 ** 3.0)"
   ]
  },
  {
   "cell_type": "markdown",
   "metadata": {},
   "source": [
    "### Operador de Multiplicação ( * )"
   ]
  },
  {
   "cell_type": "code",
   "execution_count": 46,
   "metadata": {},
   "outputs": [
    {
     "name": "stdout",
     "output_type": "stream",
     "text": [
      "4\n",
      "4.0\n",
      "4.0\n",
      "4.0\n"
     ]
    }
   ],
   "source": [
    "print( 2 * 2 )\n",
    "print( 2.0 * 2 )\n",
    "print( 2 * 2.0)\n",
    "print( 2.0 * 2.0)\n"
   ]
  },
  {
   "cell_type": "markdown",
   "metadata": {},
   "source": [
    "### Operador de Divisão ( / )"
   ]
  },
  {
   "cell_type": "code",
   "execution_count": 47,
   "metadata": {},
   "outputs": [
    {
     "name": "stdout",
     "output_type": "stream",
     "text": [
      "1.0\n",
      "1.0\n",
      "1.0\n",
      "1.0\n",
      "0.6666666666666666\n",
      "1.5\n"
     ]
    }
   ],
   "source": [
    "print( 2 / 2 )\n",
    "print( 2.0 / 2 )\n",
    "print( 2 / 2.0)\n",
    "print( 2.0 / 2.0)\n",
    "print( 2 / 3 )\n",
    "print( 3 / 2 )\n"
   ]
  },
  {
   "cell_type": "markdown",
   "metadata": {},
   "source": [
    "### Operador Divisão com Arredondamento ( // )\n",
    "Faz arredondamento para Baixo!!!"
   ]
  },
  {
   "cell_type": "code",
   "execution_count": 48,
   "metadata": {},
   "outputs": [
    {
     "name": "stdout",
     "output_type": "stream",
     "text": [
      "0\n",
      "1\n",
      "1.0\n",
      "-2\n"
     ]
    }
   ],
   "source": [
    "print( 2 // 3 ) # resultado 0.6666666\n",
    "print( 3 // 2 ) # resultado 1.5 , arredonda pra baixo, logo vai aparecer 1\n",
    "print( 3.0 // 2 )\n",
    "print( -3 // 2) # resultado -1.5 , esse operador arredonda pra baixo, logo vai aparecer -2\n"
   ]
  },
  {
   "cell_type": "markdown",
   "metadata": {},
   "source": [
    "### Operador de resto - Módulo ( % )"
   ]
  },
  {
   "cell_type": "code",
   "execution_count": 49,
   "metadata": {},
   "outputs": [
    {
     "name": "stdout",
     "output_type": "stream",
     "text": [
      "1\n",
      "1.0\n",
      "1.0\n",
      "1.0\n",
      "3.0\n",
      "0\n"
     ]
    }
   ],
   "source": [
    "print( 3 % 2)\n",
    "print( 3 % 2.0)\n",
    "print( 3.0 % 2)\n",
    "print( 3.0 % 2.0)\n",
    "print( 12 % 4.5)\n",
    "print( 4 % 2) #é uma divisão completa, não tem resto\n"
   ]
  },
  {
   "cell_type": "markdown",
   "metadata": {},
   "source": [
    "#### Cuidados com resto e divisões\n",
    "Qualquer um deles não pode ter como divisor o zero\n",
    "O resultado é erro!"
   ]
  },
  {
   "cell_type": "markdown",
   "metadata": {},
   "source": [
    "### Operador de Soma e Subtração"
   ]
  },
  {
   "cell_type": "code",
   "execution_count": 50,
   "metadata": {},
   "outputs": [
    {
     "name": "stdout",
     "output_type": "stream",
     "text": [
      "4\n",
      "0\n",
      "4.0\n",
      "4.0\n",
      "0.0\n"
     ]
    }
   ],
   "source": [
    "print ( 2 + 2)\n",
    "print ( 2 - 2)\n",
    "print ( 2 + 2.0)\n",
    "print ( 2.0 + 2)\n",
    "print ( -2.0 + 2.0) #usando operador unário"
   ]
  },
  {
   "cell_type": "markdown",
   "metadata": {},
   "source": [
    "#### Operadores e prioridades"
   ]
  },
  {
   "cell_type": "code",
   "execution_count": null,
   "metadata": {},
   "outputs": [
    {
     "name": "stdout",
     "output_type": "stream",
     "text": [
      "2.0\n",
      "256\n",
      "-4\n"
     ]
    }
   ],
   "source": [
    "print( 2 + 3 * 4 ** 2 / 2 // 2 % 3)\n",
    "print ( 2 ** 2 ** 3)"
   ]
  },
  {
   "cell_type": "markdown",
   "metadata": {},
   "source": [
    "#### Lista de prioridades de operadores\n",
    "\n",
    "| Prioridade | Operador | Descrição |\n",
    "| - | - | - |\n",
    "| 1 | ** | Exponenciação |\n",
    "| 2 | -, + |  Operador Unário |\n",
    "| 3 | *, /, //, %| Multiplicação, Divisão, e Resto |\n",
    "| 4 | -, + | Soma e Subtração |"
   ]
  },
  {
   "cell_type": "code",
   "execution_count": null,
   "metadata": {},
   "outputs": [
    {
     "name": "stdout",
     "output_type": "stream",
     "text": [
      "-9\n",
      "9\n"
     ]
    }
   ],
   "source": [
    "print(-3 ** 2) # aqui a exponenciação é feita primeiro, por isso o resultado ainda sai negativo\n",
    "print((-3) ** 2) # se eu colocar o negativo entre parenteses, o python entende que isso é prioridade e aí então faz (-3)^2 = 9 e o resultado é positivo"
   ]
  }
 ],
 "metadata": {
  "kernelspec": {
   "display_name": ".venv",
   "language": "python",
   "name": "python3"
  },
  "language_info": {
   "codemirror_mode": {
    "name": "ipython",
    "version": 3
   },
   "file_extension": ".py",
   "mimetype": "text/x-python",
   "name": "python",
   "nbconvert_exporter": "python",
   "pygments_lexer": "ipython3",
   "version": "3.13.2"
  }
 },
 "nbformat": 4,
 "nbformat_minor": 2
}
