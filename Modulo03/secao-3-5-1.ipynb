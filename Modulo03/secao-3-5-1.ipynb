{
 "cells": [
  {
   "cell_type": "markdown",
   "metadata": {},
   "source": [
    "# 3.5.1 - Ordenando lista"
   ]
  },
  {
   "cell_type": "code",
   "execution_count": 14,
   "metadata": {},
   "outputs": [
    {
     "name": "stdout",
     "output_type": "stream",
     "text": [
      "Trocas:  3\n",
      "[8, 6, 2, 4, 10]\n",
      "Trocas:  3\n",
      "[6, 2, 4, 8, 10]\n",
      "Trocas:  2\n",
      "[2, 4, 6, 8, 10]\n",
      "Trocas:  0\n",
      "[2, 4, 6, 8, 10]\n",
      "\n",
      "Lista ordenada:  [2, 4, 6, 8, 10]\n"
     ]
    }
   ],
   "source": [
    "# Ordenação BubbleSort\n",
    "#do Menor para o Maior\n",
    "\n",
    "lista = [8,10,6,2,4]\n",
    "troca = True\n",
    "\n",
    "while troca:\n",
    "    qtde = 0\n",
    "    troca = False\n",
    "    for i in range(len(lista)-1):\n",
    "        if lista[i]>lista[i+1]:\n",
    "            lista[i],lista[i+1] = lista[i+1],lista[i] #permuta\n",
    "            troca = True #ocorreu uma troca, na última quando não tiver mais troca, ele vai sair do laço\n",
    "            qtde += 1\n",
    "    print('Trocas: ',qtde) #quantidade de troca em cada interação\n",
    "    print(lista) #exibir a lista a cada troca\n",
    "print()\n",
    "print(\"Lista ordenada: \",lista)\n",
    "\n",
    "#bubblesort não é eficiente pra lista muitos grandes, como mais de um milhão de elementos\n",
    "\n"
   ]
  },
  {
   "cell_type": "code",
   "execution_count": null,
   "metadata": {},
   "outputs": [
    {
     "name": "stdout",
     "output_type": "stream",
     "text": [
      "Trocas:  2\n",
      "Trocas:  0\n",
      "[10, 8, 6, 4, 2]\n"
     ]
    }
   ],
   "source": [
    "# Ordenar do Maior para o Menor\n",
    "\n",
    "lista = [8,10,6,2,4]\n",
    "troca = True\n",
    "\n",
    "while troca:\n",
    "    qtde = 0\n",
    "    troca = False\n",
    "    for i in range(len(lista)-1):\n",
    "        if lista[i]<lista[i+1]:\n",
    "            lista[i],lista[i+1] = lista[i+1],lista[i] #permuta\n",
    "            troca = True #ocorreu uma troca, na última quando não tiver mais troca, ele vai sair do laço\n",
    "            qtde += 1\n",
    "    print('Trocas: ',qtde) #quantidade de troca em cada interação\n",
    "print(lista)"
   ]
  },
  {
   "cell_type": "code",
   "execution_count": null,
   "metadata": {},
   "outputs": [
    {
     "name": "stdout",
     "output_type": "stream",
     "text": [
      "[2, 4, 6, 8, 10]\n",
      "[10, 8, 6, 4, 2]\n"
     ]
    }
   ],
   "source": [
    "lista = [8,10,6,2,4]\n",
    "lista.sort() #ordena do menor para o maior\n",
    "print(lista)\n",
    "lista.reverse() #inverte a lista que já está ordenada\n",
    "print(lista)\n",
    "\n",
    "#essa ordenação é mais eficiente"
   ]
  }
 ],
 "metadata": {
  "kernelspec": {
   "display_name": ".venv",
   "language": "python",
   "name": "python3"
  },
  "language_info": {
   "codemirror_mode": {
    "name": "ipython",
    "version": 3
   },
   "file_extension": ".py",
   "mimetype": "text/x-python",
   "name": "python",
   "nbconvert_exporter": "python",
   "pygments_lexer": "ipython3",
   "version": "3.13.2"
  }
 },
 "nbformat": 4,
 "nbformat_minor": 2
}
