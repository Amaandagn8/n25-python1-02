{
 "cells": [
  {
   "cell_type": "markdown",
   "metadata": {},
   "source": [
    "# 3.4 Listas"
   ]
  },
  {
   "cell_type": "code",
   "execution_count": null,
   "metadata": {},
   "outputs": [
    {
     "name": "stdout",
     "output_type": "stream",
     "text": [
      "3\n",
      "[1, 2, 9, 4, 5, 6]\n",
      "6\n"
     ]
    }
   ],
   "source": [
    "# Representando uma lista\n",
    "\n",
    "lista = [1, 2, 3, 4, 5, 6] #colchete representa uma lista\n",
    "print(lista[2]) #imprima o índice 2 -> índice sempre começa de zero, por isso irá exibir o número 3 da nossa lista\n",
    "\n",
    "lista[2]=9 #alterando o item da posição 2\n",
    "print(lista)\n",
    "print(len(lista)) #retorna o tamanho da lista"
   ]
  },
  {
   "cell_type": "code",
   "execution_count": 9,
   "metadata": {},
   "outputs": [
    {
     "name": "stdout",
     "output_type": "stream",
     "text": [
      "c\n",
      "['a', 'b', 'z', 'd', 'e', 'f']\n",
      "6\n"
     ]
    }
   ],
   "source": [
    "# Representando uma lista\n",
    "\n",
    "lista = ['a', 'b', 'c', 'd', 'e', 'f'] #colchete representa uma lista\n",
    "print(lista[2]) #imprima o índice 2 -> índice sempre começa de zero, por isso irá exibir o número 3 da nossa lista\n",
    "\n",
    "lista[2]='z' #alterando o item da posição 2\n",
    "print(lista)\n",
    "print(len(lista)) #retorna o tamanho da lista"
   ]
  }
 ],
 "metadata": {
  "kernelspec": {
   "display_name": ".venv",
   "language": "python",
   "name": "python3"
  },
  "language_info": {
   "codemirror_mode": {
    "name": "ipython",
    "version": 3
   },
   "file_extension": ".py",
   "mimetype": "text/x-python",
   "name": "python",
   "nbconvert_exporter": "python",
   "pygments_lexer": "ipython3",
   "version": "3.13.2"
  }
 },
 "nbformat": 4,
 "nbformat_minor": 2
}
