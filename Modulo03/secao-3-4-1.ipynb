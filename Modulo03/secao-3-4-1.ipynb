{
 "cells": [
  {
   "cell_type": "markdown",
   "metadata": {},
   "source": [
    "# 3.4 Listas"
   ]
  },
  {
   "cell_type": "code",
   "execution_count": null,
   "metadata": {},
   "outputs": [
    {
     "name": "stdout",
     "output_type": "stream",
     "text": [
      "3\n",
      "[1, 2, 9, 4, 5, 6]\n",
      "6\n"
     ]
    }
   ],
   "source": [
    "# Representando uma lista\n",
    "\n",
    "lista = [1, 2, 3, 4, 5, 6] #colchete representa uma lista\n",
    "print(lista[2]) #imprima o índice 2 -> índice sempre começa de zero, por isso irá exibir o número 3 da nossa lista\n",
    "\n",
    "lista[2]=9 #alterando o item da posição 2\n",
    "print(lista)\n",
    "print(len(lista)) #retorna o tamanho da lista"
   ]
  },
  {
   "cell_type": "code",
   "execution_count": 1,
   "metadata": {},
   "outputs": [
    {
     "name": "stdout",
     "output_type": "stream",
     "text": [
      "Conteúdos originais da lista: [10, 5, 7, 2, 1]\n",
      "Novo conteúdo da lista:  [111, 5, 7, 2, 1]\n"
     ]
    }
   ],
   "source": [
    "numbers = [10, 5, 7, 2, 1]\n",
    "print(\"Conteúdos originais da lista:\", numbers)  # Imprimindo o conteúdo original da lista.\n",
    " \n",
    "numbers[0] = 111\n",
    "print(\"Novo conteúdo da lista: \", numbers)  # Conteúdo atual da lista."
   ]
  },
  {
   "cell_type": "code",
   "execution_count": 5,
   "metadata": {},
   "outputs": [
    {
     "name": "stdout",
     "output_type": "stream",
     "text": [
      "[1, 2, 3, 4, 5, 6]\n",
      "[1, 2, 3, 4, 6]\n"
     ]
    }
   ],
   "source": [
    "# Deletando um elemento\n",
    "\n",
    "#indices 0, 1, 2, 3, 4, 5\n",
    "lista = [1, 2, 3, 4, 5, 6] \n",
    "print(lista)\n",
    "\n",
    "del lista[4] #removendo o índice 4 da lista\n",
    "print(lista)"
   ]
  },
  {
   "cell_type": "code",
   "execution_count": null,
   "metadata": {},
   "outputs": [
    {
     "name": "stdout",
     "output_type": "stream",
     "text": [
      "5\n",
      "4\n",
      "1\n",
      "1\n",
      "5\n"
     ]
    }
   ],
   "source": [
    "# Acessando elementos com índice negativo\n",
    "#indice -5,-4,-3,-2,-1\n",
    "lista = [1, 2, 3, 4, 5] \n",
    "print(lista[-1]) #de trás pra frente, aqui vai pegar o último elemento da lista\n",
    "print(lista[-2])\n",
    "print(lista[-5]) #aqui eu só posso ir até o índice 5, pois é o tamanho da minha lista\n",
    "print(lista[~(len(lista)-1)])\n",
    "print(lista[len(lista)-1])"
   ]
  },
  {
   "cell_type": "markdown",
   "metadata": {},
   "source": [
    "#### Funções x Métodos\n",
    "Exemplos de função: len(), min(), max(), print()\n",
    "\n",
    "Métodos é um pouco diferente...\n",
    "objeto.metodo()\n",
    "\n",
    "Exemplos de métodos:\n",
    "lista = [1,2,3,4,5]\n",
    "lista.append(6) <- isso adiciona o número 6 para a lista no final"
   ]
  },
  {
   "cell_type": "code",
   "execution_count": null,
   "metadata": {},
   "outputs": [
    {
     "name": "stdout",
     "output_type": "stream",
     "text": [
      "[1, 2, 3, 4, 5, 6]\n",
      "[1, 2, 3, 9, 4, 5, 6]\n"
     ]
    }
   ],
   "source": [
    "lista = [1,2,3,4,5]\n",
    "lista.append(6) # adiciona o número 6 para o final da lista\n",
    "print(lista) \n",
    "\n",
    "#print(dir(lista)) # mostra todas as propriedades da lista\n",
    "\n",
    "lista.insert(3,9) # adiciona o valor 9 na posição/índice 3\n",
    "print(lista)"
   ]
  },
  {
   "cell_type": "code",
   "execution_count": 22,
   "metadata": {},
   "outputs": [
    {
     "name": "stdout",
     "output_type": "stream",
     "text": [
      "Indice: 0 Valor: 1\n",
      "Indice: 1 Valor: 2\n",
      "Indice: 2 Valor: 3\n",
      "Indice: 3 Valor: 4\n",
      "Indice: 4 Valor: 5\n",
      "Fim do programa.\n"
     ]
    }
   ],
   "source": [
    "# Usando for em listas\n",
    "\n",
    "lista = [1,2,3,4,5]\n",
    "\n",
    "for i in range(len(lista)):\n",
    "    print(\"Indice:\",i,\"Valor:\",lista[i])\n",
    "print(\"Fim do programa.\")"
   ]
  },
  {
   "cell_type": "code",
   "execution_count": null,
   "metadata": {},
   "outputs": [
    {
     "name": "stdout",
     "output_type": "stream",
     "text": [
      "Valor: 1\n",
      "Valor: 2\n",
      "Valor: 3\n",
      "Valor: 4\n",
      "Valor: 5\n",
      "Fim do programa.\n"
     ]
    }
   ],
   "source": [
    "# Usando for em listas pelo valor\n",
    "\n",
    "lista = [1,2,3,4,5]\n",
    "\n",
    "for el in lista: # el pode ser qualquer nome\n",
    "    print(\"Valor:\",el)\n",
    "print(\"Fim do programa.\")"
   ]
  },
  {
   "cell_type": "code",
   "execution_count": null,
   "metadata": {},
   "outputs": [
    {
     "name": "stdout",
     "output_type": "stream",
     "text": [
      "[7, 6, 5, 4, 3, 2, 1]\n"
     ]
    }
   ],
   "source": [
    "# Permuta de elementos\n",
    "\n",
    "#indice  0, 1, 2, 3, 4, 5, 6\n",
    "#indice -7,-6,-5,-4,-3,-2,-1\n",
    "lista = [1, 2, 3, 4, 5, 6, 7]\n",
    "\n",
    "lista[0],lista[-1]=lista[-1],lista[0] #estou trocando o primeiro pelo último -> 1,7 = 7,1\n",
    "lista[1],lista[-2]=lista[-2],lista[1]\n",
    "lista[2],lista[-3]=lista[-3],lista[2]\n",
    "#com três interações eu percorro e altero toda lista. elementos // 2 = 7 // 2 = 3\n",
    "#tem um padrão, logo eu posso usar um laço for pra isso\n",
    "print(lista)"
   ]
  },
  {
   "cell_type": "code",
   "execution_count": 29,
   "metadata": {},
   "outputs": [
    {
     "name": "stdout",
     "output_type": "stream",
     "text": [
      "[7, 6, 5, 4, 3, 2, 1]\n"
     ]
    }
   ],
   "source": [
    "# Permuta de elementos com laço for\n",
    "\n",
    "lista = [1, 2, 3, 4, 5, 6, 7]\n",
    "\n",
    "for i in range(len(lista)//2):\n",
    "    lista[i],lista[~i]=lista[~i],lista[i]\n",
    "print(lista)\n"
   ]
  },
  {
   "cell_type": "code",
   "execution_count": 41,
   "metadata": {},
   "outputs": [
    {
     "name": "stdout",
     "output_type": "stream",
     "text": [
      "[1, 2.5, 'Olá', [1, 2, 3], [1, [2, 3]], True]\n",
      "\n",
      "[1, 2, 3]\n",
      "3\n",
      "\n",
      "[1, [2, 3]]\n",
      "3\n"
     ]
    }
   ],
   "source": [
    "lista = [1, 2.5, \"Olá\", [1,2,3], [1,[2,3]], True]\n",
    "print(lista)\n",
    "print()\n",
    "print(lista[3]) #aqui vai trazer o elemento 3, que é uma lista\n",
    "print(lista[3][2]) #aqui estou buscando o elemento 2 dentro dessa outra lista [1,2,(3)]\n",
    "print()\n",
    "print(lista[4])\n",
    "print(lista[4][1][1])"
   ]
  }
 ],
 "metadata": {
  "kernelspec": {
   "display_name": ".venv",
   "language": "python",
   "name": "python3"
  },
  "language_info": {
   "codemirror_mode": {
    "name": "ipython",
    "version": 3
   },
   "file_extension": ".py",
   "mimetype": "text/x-python",
   "name": "python",
   "nbconvert_exporter": "python",
   "pygments_lexer": "ipython3",
   "version": "3.13.2"
  }
 },
 "nbformat": 4,
 "nbformat_minor": 2
}
