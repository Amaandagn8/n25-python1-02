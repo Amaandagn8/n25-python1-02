{
 "cells": [
  {
   "cell_type": "markdown",
   "metadata": {},
   "source": [
    "# 3.6.1 Operações com lista\n",
    "### Fatiamento"
   ]
  },
  {
   "cell_type": "code",
   "execution_count": null,
   "metadata": {},
   "outputs": [
    {
     "name": "stdout",
     "output_type": "stream",
     "text": [
      "20 15\n",
      "140721658332680 140721658332520\n"
     ]
    }
   ],
   "source": [
    "# Operações com valores\n",
    "\n",
    "item1 = 10\n",
    "item2 = 20\n",
    "item1 = item2 \n",
    "item2 = 15\n",
    "\n",
    "print(item1,item2)\n",
    "print(id(item1),id(item2)) #endereços diferentes"
   ]
  },
  {
   "cell_type": "code",
   "execution_count": null,
   "metadata": {},
   "outputs": [
    {
     "name": "stdout",
     "output_type": "stream",
     "text": [
      "[1, 2, 3, 4]\n",
      "2235634836672 2235634836672\n"
     ]
    }
   ],
   "source": [
    "# Operação com lista\n",
    "\n",
    "lista1 = [1,2,3]\n",
    "lista2 = lista1 #as duas listas tem o mesmo endereço\n",
    "lista2.append(4) #por isso que quando adiciono na lista1, também vai pra lista2, pq na vdd são a mesma lista, o mesmo endereço\n",
    "print(lista1)\n",
    "print(id(lista1),id(lista2)) #id fornece endereço de memória, veremos que ambos são iguais"
   ]
  },
  {
   "cell_type": "code",
   "execution_count": null,
   "metadata": {},
   "outputs": [
    {
     "name": "stdout",
     "output_type": "stream",
     "text": [
      "[2, 3]\n",
      "[1, 2, 3]\n",
      "[2, 3, 4, 5]\n",
      "[1, 2, 3, 4, 5]\n",
      "[2, 3]\n"
     ]
    }
   ],
   "source": [
    "# Fatiamento\n",
    "#        0 1 2 3 4\n",
    "lista = [1,2,3,4,5]\n",
    "print(lista[1:3]) #índice do último não é incluso, então vai pegar o índice 1 e 2\n",
    "print(lista[:3]) #posso omitir o início, e só indicar o fim. Ele vai pegar do começo até o índice 3 (lembrando que o índice 3 não será mostra, i-1)\n",
    "print(lista[1:]) #omito o fim\n",
    "print(lista[:]) #pega todos elementos\n",
    "print(lista[1:-2]) #também funciona índice negativo"
   ]
  },
  {
   "cell_type": "code",
   "execution_count": null,
   "metadata": {},
   "outputs": [
    {
     "name": "stdout",
     "output_type": "stream",
     "text": [
      "[1, 2, 3, 4] 2235635158720\n",
      "[1, 2, 3, 4, 5] 2235634738304\n",
      "[1, 4]\n",
      "[1, 2, 3, 4, 5]\n"
     ]
    }
   ],
   "source": [
    "#         0 1 2 3\n",
    "lista1 = [1,2,3,4]\n",
    "lista2 = lista1[:] #aqui não será o mesmo endereço, quando fazemos o fatiamento fazemos uma cópia da lista, logo o id é diferente\n",
    "lista2.append(5)\n",
    "print(lista1,id(lista1))\n",
    "print(lista2,id(lista2))\n",
    "del lista1[1:3]\n",
    "print(lista1)\n",
    "print(lista2)"
   ]
  },
  {
   "cell_type": "code",
   "execution_count": 19,
   "metadata": {},
   "outputs": [
    {
     "name": "stdout",
     "output_type": "stream",
     "text": [
      "cdefghijklmnopqrstuvwx\n"
     ]
    }
   ],
   "source": [
    "# Fatiamento em string\n",
    "\n",
    "texto = \"abcdefghijklmnopqrstuvwxyz\"\n",
    "print(texto[2:-2])"
   ]
  },
  {
   "cell_type": "markdown",
   "metadata": {},
   "source": [
    "### Operadores in e not in"
   ]
  },
  {
   "cell_type": "code",
   "execution_count": null,
   "metadata": {},
   "outputs": [
    {
     "name": "stdout",
     "output_type": "stream",
     "text": [
      "True\n",
      "False\n",
      "False\n"
     ]
    }
   ],
   "source": [
    "lista = [7,8,3,2,5] \n",
    "print(5 in lista) # o 5 está na lista? SIM -> True\n",
    "print(5 not in lista) # o 5 não está na lista? FALSO -> False\n",
    "print(9 in lista) # 9 está na lista? NÃO -> False"
   ]
  },
  {
   "cell_type": "markdown",
   "metadata": {},
   "source": [
    "### Laboratório 3.6.6"
   ]
  },
  {
   "cell_type": "code",
   "execution_count": 36,
   "metadata": {},
   "outputs": [
    {
     "name": "stdout",
     "output_type": "stream",
     "text": [
      "A lista com os elementos exclusivos aqui\n",
      "[1, 2, 4, 6, 9]\n"
     ]
    }
   ],
   "source": [
    "my_list = [1, 2, 4, 4, 1, 4, 2, 6, 2, 9]\n",
    "apoio = []\n",
    "\n",
    "for i in my_list:\n",
    "    if i not in apoio:\n",
    "        apoio.append(i)\n",
    "my_list = apoio\n",
    "\n",
    "print(\"A lista com os elementos exclusivos aqui\")\n",
    "print(my_list)"
   ]
  }
 ],
 "metadata": {
  "kernelspec": {
   "display_name": ".venv",
   "language": "python",
   "name": "python3"
  },
  "language_info": {
   "codemirror_mode": {
    "name": "ipython",
    "version": 3
   },
   "file_extension": ".py",
   "mimetype": "text/x-python",
   "name": "python",
   "nbconvert_exporter": "python",
   "pygments_lexer": "ipython3",
   "version": "3.13.2"
  }
 },
 "nbformat": 4,
 "nbformat_minor": 2
}
