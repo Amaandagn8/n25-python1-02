{
 "cells": [
  {
   "cell_type": "markdown",
   "metadata": {},
   "source": [
    "# Tomada de decisão\n",
    "## Operações relacionais\n",
    "### Operador de igualdade ( == )"
   ]
  },
  {
   "cell_type": "code",
   "execution_count": null,
   "metadata": {},
   "outputs": [
    {
     "name": "stdout",
     "output_type": "stream",
     "text": [
      "False\n",
      "True\n",
      "True\n",
      "True\n"
     ]
    }
   ],
   "source": [
    "print( 1 == 2) # um é igual a dois? FALSO\n",
    "print( 1 == 1) # um é igual a um? VERDADEIRO\n",
    "print( 1 == 1.0) # um é igual a um? VERDADEIRO\n",
    "print( 2 == 0b10) # dois é igual a 0b10 (dois binário) ? VERDADEIRO"
   ]
  },
  {
   "cell_type": "markdown",
   "metadata": {},
   "source": [
    "### Operador de desigualdade"
   ]
  },
  {
   "cell_type": "code",
   "execution_count": 6,
   "metadata": {},
   "outputs": [
    {
     "name": "stdout",
     "output_type": "stream",
     "text": [
      "True\n",
      "False\n",
      "False\n",
      "True\n"
     ]
    }
   ],
   "source": [
    "print ( 1 != 2) # um é diferente de dois? VERDADEIRO\n",
    "print ( 1 != 1) # um é diferente de um? FALSO\n",
    "print ( 1 != 1.0) # um é diferente de um? FALSO\n",
    "print ( 1 != 0b10) # um é diferente de 0b10 (dois binário) ? VERDADEIRO\n"
   ]
  },
  {
   "cell_type": "markdown",
   "metadata": {},
   "source": [
    "### Operador maior que ( > ) e maior igual a ( >= )"
   ]
  },
  {
   "cell_type": "code",
   "execution_count": null,
   "metadata": {},
   "outputs": [
    {
     "name": "stdout",
     "output_type": "stream",
     "text": [
      "False\n",
      "True\n",
      "True\n",
      "True\n"
     ]
    }
   ],
   "source": [
    "print ( 1 > 2 ) # um é maior que dois? FALSO\n",
    "print ( 2 > 1 ) # dois é maior que um? VERDADEIRO\n",
    "print ( 2 >= 1 ) # dois é maior ou igual a um? VERDADEIRO\n",
    "print ( 2 >= 0b10 ) # dois é maior ou igual a 0b10 (dois binário) ? VERDADEIRO"
   ]
  },
  {
   "cell_type": "markdown",
   "metadata": {},
   "source": [
    "### Operador menor que ( < ) e menor igual a ( < = >)"
   ]
  },
  {
   "cell_type": "code",
   "execution_count": null,
   "metadata": {},
   "outputs": [
    {
     "name": "stdout",
     "output_type": "stream",
     "text": [
      "True\n",
      "False\n",
      "False\n",
      "True\n"
     ]
    }
   ],
   "source": [
    "print ( 1 < 2 ) # um é menor que dois? VERDADEIRO\n",
    "print ( 2 < 1 ) # dois é menor que um? FALSO\n",
    "print ( 2 <= 1 ) # dois é menor ou igual a um? FALSO\n",
    "print ( 2 <= 0b10 ) # dois é menor ou igual a 0b10 (dois binário) ? VERDADEIRO"
   ]
  },
  {
   "cell_type": "markdown",
   "metadata": {},
   "source": [
    "### Atualizando a lista de prioridades de operadores\n",
    "| Seq | Operador | Descrição |\n",
    "| - | :-: | - |\n",
    "| 1 | ** | Exponenciação |\n",
    "| 2 | +,- | Unário Sinal|\n",
    "| 3 | *, /, //, % | Multiplicação, Divisão, Resto |\n",
    "| 4 | +, - | Soma e Subtração |\n",
    "| 4 | >, >=, <, <=, | Maior, Maior igual, Menor, Menor igual |\n",
    "| 6 | ==, != | Igualdade e Diferença |"
   ]
  },
  {
   "cell_type": "markdown",
   "metadata": {},
   "source": [
    "### Operador if ( Se )\n",
    "sintaxe:\n",
    "if condicao_verdade:\n",
    "    comando_a_ser_executado1()\n",
    "    comando_a_ser_executado2()\n"
   ]
  },
  {
   "cell_type": "code",
   "execution_count": 12,
   "metadata": {},
   "outputs": [
    {
     "name": "stdout",
     "output_type": "stream",
     "text": [
      "Você é maior de idade\n",
      "Você pode dirigir, se habilitado!\n",
      "fim do programa\n"
     ]
    }
   ],
   "source": [
    "idade = int(input(\"Digite sua idade: \"))\n",
    "if idade >= 18:\n",
    "    print(\"Você é maior de idade\")\n",
    "    print(\"Você pode dirigir, se habilitado!\")\n",
    "print(\"fim do programa\")"
   ]
  },
  {
   "cell_type": "markdown",
   "metadata": {},
   "source": [
    "### Instrução else ( Senão )"
   ]
  },
  {
   "cell_type": "code",
   "execution_count": 13,
   "metadata": {},
   "outputs": [
    {
     "name": "stdout",
     "output_type": "stream",
     "text": [
      "Você é menor de idade\n",
      "Você não pode dirigir!\n",
      "fim do programa\n"
     ]
    }
   ],
   "source": [
    "idade = int(input(\"Digite sua idade: \"))\n",
    "if idade >= 18:\n",
    "    print(\"Você é maior de idade\")\n",
    "    print(\"Você pode dirigir, se habilitado!\")\n",
    "else:\n",
    "    print(\"Você é menor de idade\")\n",
    "    print(\"Você não pode dirigir!\") \n",
    "print(\"fim do programa\")"
   ]
  },
  {
   "cell_type": "markdown",
   "metadata": {},
   "source": [
    "### if encadeado"
   ]
  },
  {
   "cell_type": "code",
   "execution_count": null,
   "metadata": {},
   "outputs": [
    {
     "name": "stdout",
     "output_type": "stream",
     "text": [
      "Você é maior de idade\n",
      "Você pode dirigir, se habilitado!\n",
      "Você deve fazer exames médicos a cada 2 anos\n",
      "fim do programa\n"
     ]
    }
   ],
   "source": [
    "idade = int(input(\"Digite sua idade: \"))\n",
    "if idade >= 18:\n",
    "    print(\"Você é maior de idade\")\n",
    "    print(\"Você pode dirigir, se habilitado!\")\n",
    "    if idade >= 70:\n",
    "        print(\"Você deve fazer exames médicos anuais\")\n",
    "    else:\n",
    "        if idade >= 65:\n",
    "            print(\"Você deve fazer exames médicos a cada 2 anos\")\n",
    "else: # esse else se refere a primeira condicional, se é maior igual 18\n",
    "    print(\"Você é menor de idade\")\n",
    "    print(\"Você não pode dirigir!\") \n",
    "print(\"fim do programa\")"
   ]
  },
  {
   "cell_type": "markdown",
   "metadata": {},
   "source": [
    "### instrução elif\n",
    "hierarquia: if , elif , else"
   ]
  },
  {
   "cell_type": "code",
   "execution_count": null,
   "metadata": {},
   "outputs": [
    {
     "name": "stdout",
     "output_type": "stream",
     "text": [
      "Você é menor de idade\n",
      "Você não pode dirigir!\n",
      "fim do programa\n"
     ]
    }
   ],
   "source": [
    "idade = int(input(\"Digite sua idade: \"))\n",
    "if idade >= 70:\n",
    "    print(\"Você é maior de idade\")\n",
    "    print(\"Você pode dirigir, se habilitado!\")\n",
    "    print(\"Você deve fazer exames médicos anuais\")\n",
    "elif idade >= 65: #é como se fosse um \"else if\" SENÃO testar outra condição\n",
    "    print(\"Você é maior de idade\")\n",
    "    print(\"Você pode dirigir, se habilitado!\")\n",
    "    print(\"Você deve fazer exames médicos a cada 2 anos\")\n",
    "elif idade >= 18:\n",
    "    print(\"Você é maior de idade\")\n",
    "    print(\"Você pode dirigir, se habilitado!\")\n",
    "else:\n",
    "    print(\"Você é menor de idade\")\n",
    "    print(\"Você não pode dirigir!\") \n",
    "print(\"fim do programa\")"
   ]
  },
  {
   "cell_type": "code",
   "execution_count": 35,
   "metadata": {},
   "outputs": [
    {
     "name": "stdout",
     "output_type": "stream",
     "text": [
      "O maior número é: 50\n"
     ]
    }
   ],
   "source": [
    "# Obtendo o maior número entre dois números\n",
    "\n",
    "num1 = int(input(\"Digite o primeiro número: \"))\n",
    "num2 = int(input(\"Digite o segundo número: \"))\n",
    "maior = num1\n",
    "if num2 > maior:\n",
    "    maior = num2\n",
    "print(\"O maior número é:\", maior) #importante que o print esteja fora do if"
   ]
  },
  {
   "cell_type": "code",
   "execution_count": 36,
   "metadata": {},
   "outputs": [
    {
     "name": "stdout",
     "output_type": "stream",
     "text": [
      "O maior número é: 9000\n"
     ]
    }
   ],
   "source": [
    "# Obtendo o maior número entre três números\n",
    "\n",
    "num1 = int(input(\"Digite o primeiro número: \"))\n",
    "num2 = int(input(\"Digite o segundo número: \"))\n",
    "num3 = int(input(\"Digite o terceiro número: \"))\n",
    "maior = num1\n",
    "if num2 > maior:\n",
    "    maior = num2\n",
    "if num3 > maior:\n",
    "    maior = num3\n",
    "print(\"O maior número é:\", maior) #importante que o print esteja fora do if"
   ]
  },
  {
   "cell_type": "code",
   "execution_count": 6,
   "metadata": {},
   "outputs": [
    {
     "name": "stdout",
     "output_type": "stream",
     "text": [
      "8 é maior que ou igual a 10\n"
     ]
    }
   ],
   "source": [
    "# Uso do if com strings\n",
    "\n",
    "nome = input(\"Digite seu nome: \")\n",
    "nome2 = input(\"Digite seu outro nome: \")\n",
    "if nome > nome2:\n",
    "    print(nome, \"é maior que\", nome2)\n",
    "else:\n",
    "    print(nome2,\"é maior que ou igual a\", nome)\n",
    "\n",
    "#comparação de texto: é comparado caracter por caracter, até encontrar uma diferença. A comparação de letra por letra é conforme a tabela ASCII\n",
    "# ana é maior que Ana\n",
    "# na tabela ASCII. A = 65 e a = 97"
   ]
  },
  {
   "attachments": {
    "image.png": {
     "image/png": "[encoded data removed]"
    }
   },
   "cell_type": "markdown",
   "metadata": {},
   "source": [
    "# Laboratório 3.1.10\n",
    "![image.png](attachment:image.png)"
   ]
  },
  {
   "cell_type": "code",
   "execution_count": 24,
   "metadata": {},
   "outputs": [
    {
     "name": "stdout",
     "output_type": "stream",
     "text": [
      "Spathiphyllum! Not pelargonium!\n"
     ]
    }
   ],
   "source": [
    "nome = input(\"Digite o nome da planta: \")\n",
    "if nome == \"spathiphyllum\":\n",
    "    print(\"No, I want a big Spathiphyllum!\")\n",
    "elif nome == \"Spathiphyllum\":\n",
    "    print(\"Yes - Spathiphyllum is the best plant ever!\")\n",
    "else:\n",
    "      print(\"Spathiphyllum! Not \" + nome + \"!\")"
   ]
  },
  {
   "attachments": {
    "image.png": {
     "image/png": "[encoded data removed]"
    }
   },
   "cell_type": "markdown",
   "metadata": {},
   "source": [
    "# Lab 3.1.11\n",
    "- se a renda do cidadão não era superior a 85.528 talões, o imposto era igual a 18% da renda, menos 556 taller e 2 centavos (isso era o que eles chamavam de isenção de imposto)\n",
    "- se a receita fosse superior a esse valor, o imposto seria igual a 14.839 talões e 2 centavos, mais 32% do excedente em mais de 85.528 taller.\n",
    "![image.png](attachment:image.png)"
   ]
  },
  {
   "cell_type": "code",
   "execution_count": 53,
   "metadata": {},
   "outputs": [
    {
     "name": "stdout",
     "output_type": "stream",
     "text": [
      "A taxa é: 0 thalers\n"
     ]
    }
   ],
   "source": [
    "renda = float(input(\"Entre com os rendimentos anuais: \"))\n",
    "\n",
    "if renda < 85528:\n",
    "  imposto = renda * 0.18 - 556.02\n",
    "else:\n",
    "   excedente = renda - 85528\n",
    "   imposto = 14839.2 + (0.32 * excedente)\n",
    "if imposto <= 0:\n",
    "     imposto = 0\n",
    "imposto = round(imposto, 0)\n",
    "print(\"A taxa é:\", imposto, \"thalers\") "
   ]
  },
  {
   "cell_type": "markdown",
   "metadata": {},
   "source": [
    "# Lab 3.1.12\n",
    "Como você certamente sabe, devido a algumas razões astronômicas, os anos podem ser bissextos ou comuns. Os primeiros têm 366 dias, enquanto os segundos têm 365 dias.\n",
    "\n",
    "Desde a introdução do calendário gregoriano (em 1582), a regra a seguir é usada para determinar o tipo de ano:\n",
    "\n",
    "se o número do ano não é divisível por quatro, é um ano comum;\n",
    "caso contrário, se o número do ano não for divisível por 100, será um ano bissexto;\n",
    "caso contrário, se o número do ano não for divisível por 400, é um ano comum ;\n",
    "caso contrário, é um ano bissexto .\n",
    "Observe o código no editor: ele só lê o número de um ano e precisa ser concluído com as instruções de implementação do teste que acabamos de descrever."
   ]
  },
  {
   "cell_type": "code",
   "execution_count": null,
   "metadata": {},
   "outputs": [
    {
     "name": "stdout",
     "output_type": "stream",
     "text": [
      "Não dentro do período do calendário gregoriano\n"
     ]
    }
   ],
   "source": [
    "year = int(input(\"Digite um ano: \"))\n",
    "\n",
    "if year < 1582:\n",
    " print(\"Não dentro do período do calendário gregoriano\")\n",
    "else:\n",
    "   if year % 4 != 0:\n",
    "     print(\"Ano comum\")\n",
    "   elif year % 100 != 0:\n",
    "     print(\"Ano bissexto\")\n",
    "   elif year % 400 != 0:\n",
    "     print(\"Ano comum\")\n",
    "   else:\n",
    "     print(\"Ano bissexto\") \n"
   ]
  },
  {
   "cell_type": "code",
   "execution_count": null,
   "metadata": {},
   "outputs": [],
   "source": [
    "# Multipla atribuição\n",
    "a, b, c = 1, 2, 3 # em uma única linha você pode criar várias variáveis\n",
    "\n",
    "# valores de a = 5, b = 6, faça uma permuta com as variáveis\n",
    "a = 5\n",
    "b = 6\n",
    "# efetuando a troca, eu preciso de uma terceira variável para trocar\n",
    "apoio = a \n",
    "a = b\n",
    "b = apoio\n",
    "\n",
    "# efetuando a permuta no python\n",
    "a, b = b, a\n",
    "\n",
    "\n"
   ]
  }
 ],
 "metadata": {
  "kernelspec": {
   "display_name": ".venv",
   "language": "python",
   "name": "python3"
  },
  "language_info": {
   "codemirror_mode": {
    "name": "ipython",
    "version": 3
   },
   "file_extension": ".py",
   "mimetype": "text/x-python",
   "name": "python",
   "nbconvert_exporter": "python",
   "pygments_lexer": "ipython3",
   "version": "3.13.2"
  }
 },
 "nbformat": 4,
 "nbformat_minor": 2
}
