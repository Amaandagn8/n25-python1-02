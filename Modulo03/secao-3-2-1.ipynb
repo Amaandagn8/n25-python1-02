{
 "cells": [
  {
   "cell_type": "markdown",
   "metadata": {},
   "source": [
    "# Loops\n",
    "### Laço while"
   ]
  },
  {
   "cell_type": "code",
   "execution_count": null,
   "metadata": {},
   "outputs": [
    {
     "name": "stdout",
     "output_type": "stream",
     "text": [
      "Teste...\n"
     ]
    }
   ],
   "source": [
    "# Exemplo de laço infinito\n",
    "\n",
    "while True: # condição se verdade permanece no laço\n",
    "    print(\"Teste...\") # nunca vai parar\n",
    "    break # força a quebra do laço"
   ]
  },
  {
   "cell_type": "code",
   "execution_count": 6,
   "metadata": {},
   "outputs": [
    {
     "name": "stdout",
     "output_type": "stream",
     "text": [
      "Maior valor digitado foi -5\n"
     ]
    }
   ],
   "source": [
    "# Exemplo para testar maior valor\n",
    "# usuário vai digitar os valores até o valor ser -1\n",
    "\n",
    "maior = -999_999_999_999\n",
    "valor = int(input(\"Digite um valor (-1 = fim): \"))\n",
    "while valor != -1:\n",
    "    if valor > maior:\n",
    "        maior = valor\n",
    "    valor = int(input(\"Digite um valor (-1 = fim): \"))\n",
    "if maior > -999_999_999_999:\n",
    "    print(\"Maior valor digitado foi\",maior)\n",
    "else:\n",
    "    print(\"Não houve digitação de valores\")"
   ]
  },
  {
   "cell_type": "code",
   "execution_count": 10,
   "metadata": {},
   "outputs": [
    {
     "name": "stdout",
     "output_type": "stream",
     "text": [
      "Pares: 4 | Impares: 2\n"
     ]
    }
   ],
   "source": [
    "# Solicitar ao usuário a digitação de valor, se -1 encerrar\n",
    "# Contar quantos pares e quantos impares foram digitados\n",
    "\n",
    "par, impar = 0, 0 \n",
    "\n",
    "num = int(input(\"Digite um número (-1 = fim): \"))\n",
    "while num != -1:\n",
    "    if num % 2 == 0: # saber se o número é par\n",
    "        par += 1 # par = par + 1\n",
    "    else:\n",
    "        impar += 1 # impar = impar +1\n",
    "    num = int(input(\"Digite um número (-1 = fim)\"))\n",
    "print(\"Pares:\",par,\"|\",\"Impares:\",impar)\n"
   ]
  },
  {
   "cell_type": "code",
   "execution_count": 12,
   "metadata": {},
   "outputs": [
    {
     "name": "stdout",
     "output_type": "stream",
     "text": [
      "0\n",
      "1\n",
      "2\n",
      "3\n",
      "4\n",
      "5\n",
      "6\n",
      "7\n",
      "8\n",
      "9\n",
      "Fim do programa\n"
     ]
    }
   ],
   "source": [
    "contador = 0\n",
    "\n",
    "while contador < 10:\n",
    "    print(contador)\n",
    "    contador +=1\n",
    "print(\"Fim do programa\")"
   ]
  },
  {
   "cell_type": "markdown",
   "metadata": {},
   "source": [
    "### Laço for"
   ]
  },
  {
   "cell_type": "code",
   "execution_count": null,
   "metadata": {},
   "outputs": [
    {
     "name": "stdout",
     "output_type": "stream",
     "text": [
      "0\n",
      "1\n",
      "2\n",
      "3\n",
      "4\n",
      "5\n",
      "6\n",
      "7\n",
      "8\n",
      "9\n",
      "Fim do programa\n"
     ]
    }
   ],
   "source": [
    "for contador in range(10): #conjunto de 0 a 9\n",
    "    print(contador)\n",
    "print(\"Fim do programa\")"
   ]
  },
  {
   "cell_type": "markdown",
   "metadata": {},
   "source": [
    "### Range com 2 parâmetros (inicio, fim)"
   ]
  },
  {
   "cell_type": "code",
   "execution_count": 16,
   "metadata": {},
   "outputs": [
    {
     "name": "stdout",
     "output_type": "stream",
     "text": [
      "1\n",
      "2\n",
      "3\n",
      "4\n",
      "Fim do programa\n"
     ]
    }
   ],
   "source": [
    "for contador in range (1,5): #conjunto de 1 a 4\n",
    "    print(contador)\n",
    "print(\"Fim do programa\")"
   ]
  },
  {
   "cell_type": "markdown",
   "metadata": {},
   "source": [
    "### Range com 3 parâmetros (inicio, fim, passo)"
   ]
  },
  {
   "cell_type": "code",
   "execution_count": null,
   "metadata": {},
   "outputs": [
    {
     "name": "stdout",
     "output_type": "stream",
     "text": [
      "1\n",
      "4\n",
      "7\n",
      "Fim do programa\n"
     ]
    }
   ],
   "source": [
    "for contador in range (1,10,3): #conjunto de 1 a 9, mas agrega de 3 e 3\n",
    "    print(contador)\n",
    "print(\"Fim do programa\")"
   ]
  },
  {
   "cell_type": "code",
   "execution_count": 19,
   "metadata": {},
   "outputs": [
    {
     "name": "stdout",
     "output_type": "stream",
     "text": [
      "Fim do programa\n"
     ]
    }
   ],
   "source": [
    "# For interessante\n",
    "for contador in range(1,1):\n",
    "    print(contador)\n",
    "print(\"Fim do programa\")"
   ]
  },
  {
   "cell_type": "code",
   "execution_count": 21,
   "metadata": {},
   "outputs": [
    {
     "name": "stdout",
     "output_type": "stream",
     "text": [
      "Fim do programa 9\n"
     ]
    }
   ],
   "source": [
    "# For interessante\n",
    "contador = 9\n",
    "for contador in range(1,1):\n",
    "    print(contador)\n",
    "print(\"Fim do programa\",contador)"
   ]
  },
  {
   "cell_type": "code",
   "execution_count": 31,
   "metadata": {},
   "outputs": [
    {
     "name": "stdout",
     "output_type": "stream",
     "text": [
      "10\n",
      "9\n",
      "8\n",
      "7\n",
      "6\n",
      "5\n",
      "4\n",
      "3\n",
      "2\n",
      "1\n",
      "Fim do programa\n"
     ]
    }
   ],
   "source": [
    "# desafio\n",
    "for contador in range(10,0,-1): # imprimir do 10 ao 1\n",
    "    print(contador)\n",
    "print(\"Fim do programa\")"
   ]
  },
  {
   "cell_type": "markdown",
   "metadata": {},
   "source": [
    "# Lab 3.2.7\n",
    "Escreva um loop for que conte até cinco\n",
    "Corpo do loop - exiba o número de iteração do loop e a palavra \"Mississippi\".\n",
    "Corpo do loop - use: time.sleep(1)\n",
    "\n",
    "Escreva uma função print com a mensagem final.\n"
   ]
  },
  {
   "cell_type": "code",
   "execution_count": null,
   "metadata": {},
   "outputs": [
    {
     "name": "stdout",
     "output_type": "stream",
     "text": [
      "1 Misssissippi\n",
      "2 Misssissippi\n",
      "3 Misssissippi\n",
      "4 Misssissippi\n",
      "5 Misssissippi\n",
      "Pronto ou não, aqui vou eu!\n"
     ]
    }
   ],
   "source": [
    "import time \n",
    "\n",
    "for i in range (1,6):\n",
    "    print(i, \"Misssissippi\")\n",
    "    time.sleep(1) # um segundo\n",
    "print(\"Pronto ou não, aqui vou eu!\")"
   ]
  },
  {
   "cell_type": "markdown",
   "metadata": {},
   "source": [
    "### Instrução break e continue"
   ]
  },
  {
   "cell_type": "code",
   "execution_count": null,
   "metadata": {},
   "outputs": [
    {
     "name": "stdout",
     "output_type": "stream",
     "text": [
      "0\n",
      "1\n",
      "2\n",
      "Fim do programa\n"
     ]
    }
   ],
   "source": [
    "contador = 0\n",
    "\n",
    "while contador < 10:\n",
    "    print(contador)\n",
    "    contador +=1\n",
    "    if contador == 3:\n",
    "        break # se o contador foi igual a três, eu aborto a excecução e o programa para\n",
    "print (\"Fim do programa\")"
   ]
  },
  {
   "cell_type": "code",
   "execution_count": null,
   "metadata": {},
   "outputs": [
    {
     "name": "stdout",
     "output_type": "stream",
     "text": [
      "1\n",
      "2\n",
      "4\n",
      "5\n",
      "6\n",
      "7\n",
      "8\n",
      "9\n",
      "10\n",
      "Fim do programa\n"
     ]
    }
   ],
   "source": [
    "contador = 0\n",
    "\n",
    "while contador < 10:\n",
    "    contador += 1\n",
    "    if contador == 3:\n",
    "        continue # ele pula o 3 e volta para a condição de inicio\n",
    "    print(contador)\n",
    "print (\"Fim do programa\")"
   ]
  },
  {
   "cell_type": "code",
   "execution_count": 43,
   "metadata": {},
   "outputs": [
    {
     "name": "stdout",
     "output_type": "stream",
     "text": [
      "o-t-o-r-r-i-n-o-l-a-r-i-n-g-o-l-o-g-i-s-t-a-\n",
      "Fim do Programa\n",
      "atsigologniralonirroto\n"
     ]
    }
   ],
   "source": [
    "# Exemplo interessante do for\n",
    "\n",
    "palavra = \"otorrinolaringologista\"\n",
    "\n",
    "for letra in palavra:\n",
    "    print(letra,end=\"-\")\n",
    "print(\"\\nFim do Programa\")\n",
    "\n",
    "# invertendo a palavra\n",
    "pal_inv = \"\"\n",
    "for letra in palavra:\n",
    "    pal_inv = letra + pal_inv\n",
    "print(pal_inv)"
   ]
  },
  {
   "cell_type": "markdown",
   "metadata": {},
   "source": [
    "### 3.2.12 - Ramo else para while"
   ]
  },
  {
   "cell_type": "code",
   "execution_count": null,
   "metadata": {},
   "outputs": [
    {
     "name": "stdout",
     "output_type": "stream",
     "text": [
      "1\n",
      "2\n"
     ]
    }
   ],
   "source": [
    "i = 1\n",
    "while i < 5:\n",
    "    #if i == 3: \n",
    "        #break #somente se você inserir um break, quebra o ramo else\n",
    "    print(i)\n",
    "    i += 1\n",
    "else:\n",
    "    print(\"else:\", i)"
   ]
  },
  {
   "cell_type": "markdown",
   "metadata": {},
   "source": [
    "### 3.2.13 - Ramo else para for "
   ]
  },
  {
   "cell_type": "code",
   "execution_count": 8,
   "metadata": {},
   "outputs": [
    {
     "name": "stdout",
     "output_type": "stream",
     "text": [
      "1\n",
      "2\n",
      "3\n",
      "4\n",
      "else: 4\n"
     ]
    }
   ],
   "source": [
    "for i in range(1,5):\n",
    "    print(i)\n",
    "else:\n",
    "    print(\"else:\",i)"
   ]
  },
  {
   "cell_type": "code",
   "execution_count": 10,
   "metadata": {},
   "outputs": [
    {
     "name": "stdout",
     "output_type": "stream",
     "text": [
      "1\n",
      "2\n"
     ]
    }
   ],
   "source": [
    "i = 10\n",
    "for i in range(1,5):\n",
    "    if i == 3: break # pode ser 1 linha desde que 1 instrução\n",
    "    print(i)\n",
    "else:\n",
    "    print(\"else:\",i) # só não passa se ocorrer break no laço"
   ]
  },
  {
   "attachments": {
    "image.png": {
     "image/png": "[encoded data removed]"
    }
   },
   "cell_type": "markdown",
   "metadata": {},
   "source": [
    "### Laboratório 3.2.14\n",
    "Ouça esta história: um garoto e seu pai, um programador de computador, estão jogando com blocos de madeira. Eles estão construindo uma pirâmide.\n",
    "A pirâmide deles é um pouco esquisita, pois na verdade é uma parede em forma de pirâmide - é plana. A pirâmide é empilhada de acordo com um princípio simples: cada camada inferior contém um bloco a mais do que a camada acima.\n",
    "A figura ilustra a regra usada pelos construtores:\n",
    "\n",
    "![image.png](attachment:image.png)\n",
    "\n",
    "Sua tarefa é escrever um programa que lê o número de blocos que os construtores têm e gera a altura da pirâmide que pode ser construída usando esses blocos.\n",
    "Nota: a altura é medida pelo número de camadas totalmente concluídas; se os construtores não tiverem um número suficiente de blocos e não puderem concluir a próxima camada, eles terminarão seu trabalho imediatamente.\n",
    "Teste seu código usando os dados que fornecemos."
   ]
  },
  {
   "cell_type": "code",
   "execution_count": 26,
   "metadata": {},
   "outputs": [
    {
     "name": "stdout",
     "output_type": "stream",
     "text": [
      "A altura da pirâmide: 3\n"
     ]
    }
   ],
   "source": [
    "blocos = int(input(\"Insira o número de blocos:\"))  \n",
    " # Escreva seu código aqui.\n",
    "altura = 0\n",
    "total_blocos = 0\n",
    "while total_blocos + altura + 1 <= blocos:\n",
    "    altura +=1\n",
    "    total_blocos += altura\n",
    "#\n",
    "print(\"A altura da pirâmide:\", altura)"
   ]
  },
  {
   "cell_type": "markdown",
   "metadata": {},
   "source": [
    "#### Desafio\n",
    "Fazer um programa que solicite um número e retorne a raiz quadrada aproximada do número (sem usar expoente)\n",
    "Você deve usar laço for, if e break"
   ]
  },
  {
   "cell_type": "code",
   "execution_count": 43,
   "metadata": {},
   "outputs": [
    {
     "name": "stdout",
     "output_type": "stream",
     "text": [
      "A raiz aproximada é:  1\n"
     ]
    }
   ],
   "source": [
    "num = int(input(\"Digite o valor: \"))\n",
    "raiz = 0\n",
    "for i in range(num):\n",
    "    raiz = i\n",
    "    if (raiz + 1) * (raiz + 1) > num:\n",
    "        break\n",
    "print(\"A raiz aproximada é: \",raiz)\n"
   ]
  },
  {
   "cell_type": "code",
   "execution_count": 46,
   "metadata": {},
   "outputs": [
    {
     "name": "stdout",
     "output_type": "stream",
     "text": [
      "CPF válido 37502740880 37502740880\n"
     ]
    }
   ],
   "source": [
    "# Teste CPF\n",
    "cpf = input(\"Digite o cpf (somente número, 11 dígitos): \")\n",
    "cpf_sem_dg = \"\"\n",
    "\n",
    "soma=0\n",
    "for i in range(9):\n",
    "    soma += int(cpf[i]) * (10 - i)\n",
    "    cpf_sem_dg += cpf[i]\n",
    "#calculo 1º digito\n",
    "dg1 = soma * 10 % 11\n",
    "if dg1 > 9: dg1 = 0\n",
    "soma = 0\n",
    "for i in range(10):\n",
    "    soma += int(cpf[i]) * (11 - i)\n",
    "#calculo 2º digito\n",
    "dg2 =  soma * 10 % 11\n",
    "if dg2 > 9: dg2 = 0\n",
    "#montando cpf calculado\n",
    "cpf_sem_dg += str(dg1) + str(dg2)\n",
    "if cpf != cpf_sem_dg:\n",
    "    print(\"CPF inválido!\", cpf, cpf_sem_dg)\n",
    "else:\n",
    "    print(\"CPF válido\", cpf, cpf_sem_dg)"
   ]
  }
 ],
 "metadata": {
  "kernelspec": {
   "display_name": ".venv",
   "language": "python",
   "name": "python3"
  },
  "language_info": {
   "codemirror_mode": {
    "name": "ipython",
    "version": 3
   },
   "file_extension": ".py",
   "mimetype": "text/x-python",
   "name": "python",
   "nbconvert_exporter": "python",
   "pygments_lexer": "ipython3",
   "version": "3.13.2"
  }
 },
 "nbformat": 4,
 "nbformat_minor": 2
}
