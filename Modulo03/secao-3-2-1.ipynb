{
 "cells": [
  {
   "cell_type": "markdown",
   "metadata": {},
   "source": [
    "# Loops\n",
    "### Laço while"
   ]
  },
  {
   "cell_type": "code",
   "execution_count": null,
   "metadata": {},
   "outputs": [
    {
     "name": "stdout",
     "output_type": "stream",
     "text": [
      "Teste...\n"
     ]
    }
   ],
   "source": [
    "# Exemplo de laço infinito\n",
    "\n",
    "while True: # condição se verdade permanece no laço\n",
    "    print(\"Teste...\") # nunca vai parar\n",
    "    break # força a quebra do laço"
   ]
  },
  {
   "cell_type": "code",
   "execution_count": 6,
   "metadata": {},
   "outputs": [
    {
     "name": "stdout",
     "output_type": "stream",
     "text": [
      "Maior valor digitado foi -5\n"
     ]
    }
   ],
   "source": [
    "# Exemplo para testar maior valor\n",
    "# usuário vai digitar os valores até o valor ser -1\n",
    "\n",
    "maior = -999_999_999_999\n",
    "valor = int(input(\"Digite um valor (-1 = fim): \"))\n",
    "while valor != -1:\n",
    "    if valor > maior:\n",
    "        maior = valor\n",
    "    valor = int(input(\"Digite um valor (-1 = fim): \"))\n",
    "if maior > -999_999_999_999:\n",
    "    print(\"Maior valor digitado foi\",maior)\n",
    "else:\n",
    "    print(\"Não houve digitação de valores\")"
   ]
  },
  {
   "cell_type": "code",
   "execution_count": 10,
   "metadata": {},
   "outputs": [
    {
     "name": "stdout",
     "output_type": "stream",
     "text": [
      "Pares: 4 | Impares: 2\n"
     ]
    }
   ],
   "source": [
    "# Solicitar ao usuário a digitação de valor, se -1 encerrar\n",
    "# Contar quantos pares e quantos impares foram digitados\n",
    "\n",
    "par, impar = 0, 0 \n",
    "\n",
    "num = int(input(\"Digite um número (-1 = fim): \"))\n",
    "while num != -1:\n",
    "    if num % 2 == 0: # saber se o número é par\n",
    "        par += 1 # par = par + 1\n",
    "    else:\n",
    "        impar += 1 # impar = impar +1\n",
    "    num = int(input(\"Digite um número (-1 = fim)\"))\n",
    "print(\"Pares:\",par,\"|\",\"Impares:\",impar)\n"
   ]
  },
  {
   "cell_type": "code",
   "execution_count": 12,
   "metadata": {},
   "outputs": [
    {
     "name": "stdout",
     "output_type": "stream",
     "text": [
      "0\n",
      "1\n",
      "2\n",
      "3\n",
      "4\n",
      "5\n",
      "6\n",
      "7\n",
      "8\n",
      "9\n",
      "Fim do programa\n"
     ]
    }
   ],
   "source": [
    "contador = 0\n",
    "\n",
    "while contador < 10:\n",
    "    print(contador)\n",
    "    contador +=1\n",
    "print(\"Fim do programa\")"
   ]
  },
  {
   "cell_type": "markdown",
   "metadata": {},
   "source": [
    "### Laço for"
   ]
  },
  {
   "cell_type": "code",
   "execution_count": null,
   "metadata": {},
   "outputs": [
    {
     "name": "stdout",
     "output_type": "stream",
     "text": [
      "0\n",
      "1\n",
      "2\n",
      "3\n",
      "4\n",
      "5\n",
      "6\n",
      "7\n",
      "8\n",
      "9\n",
      "Fim do programa\n"
     ]
    }
   ],
   "source": [
    "for contador in range(10): #conjunto de 0 a 9\n",
    "    print(contador)\n",
    "print(\"Fim do programa\")"
   ]
  },
  {
   "cell_type": "markdown",
   "metadata": {},
   "source": [
    "### Range com 2 parâmetros (inicio, fim)"
   ]
  },
  {
   "cell_type": "code",
   "execution_count": 16,
   "metadata": {},
   "outputs": [
    {
     "name": "stdout",
     "output_type": "stream",
     "text": [
      "1\n",
      "2\n",
      "3\n",
      "4\n",
      "Fim do programa\n"
     ]
    }
   ],
   "source": [
    "for contador in range (1,5): #conjunto de 1 a 4\n",
    "    print(contador)\n",
    "print(\"Fim do programa\")"
   ]
  },
  {
   "cell_type": "markdown",
   "metadata": {},
   "source": [
    "### Range com 3 parâmetros (inicio, fim, passo)"
   ]
  },
  {
   "cell_type": "code",
   "execution_count": null,
   "metadata": {},
   "outputs": [
    {
     "name": "stdout",
     "output_type": "stream",
     "text": [
      "1\n",
      "4\n",
      "7\n",
      "Fim do programa\n"
     ]
    }
   ],
   "source": [
    "for contador in range (1,10,3): #conjunto de 1 a 9, mas agrega de 3 e 3\n",
    "    print(contador)\n",
    "print(\"Fim do programa\")"
   ]
  },
  {
   "cell_type": "code",
   "execution_count": 19,
   "metadata": {},
   "outputs": [
    {
     "name": "stdout",
     "output_type": "stream",
     "text": [
      "Fim do programa\n"
     ]
    }
   ],
   "source": [
    "# For interessante\n",
    "for contador in range(1,1):\n",
    "    print(contador)\n",
    "print(\"Fim do programa\")"
   ]
  },
  {
   "cell_type": "code",
   "execution_count": 21,
   "metadata": {},
   "outputs": [
    {
     "name": "stdout",
     "output_type": "stream",
     "text": [
      "Fim do programa 9\n"
     ]
    }
   ],
   "source": [
    "# For interessante\n",
    "contador = 9\n",
    "for contador in range(1,1):\n",
    "    print(contador)\n",
    "print(\"Fim do programa\",contador)"
   ]
  },
  {
   "cell_type": "code",
   "execution_count": 31,
   "metadata": {},
   "outputs": [
    {
     "name": "stdout",
     "output_type": "stream",
     "text": [
      "10\n",
      "9\n",
      "8\n",
      "7\n",
      "6\n",
      "5\n",
      "4\n",
      "3\n",
      "2\n",
      "1\n",
      "Fim do programa\n"
     ]
    }
   ],
   "source": [
    "# desafio\n",
    "for contador in range(10,0,-1): # imprimir do 10 ao 1\n",
    "    print(contador)\n",
    "print(\"Fim do programa\")"
   ]
  },
  {
   "cell_type": "markdown",
   "metadata": {},
   "source": [
    "# Lab 3.2.7\n",
    "Escreva um loop for que conte até cinco\n",
    "Corpo do loop - exiba o número de iteração do loop e a palavra \"Mississippi\".\n",
    "Corpo do loop - use: time.sleep(1)\n",
    "\n",
    "Escreva uma função print com a mensagem final.\n"
   ]
  },
  {
   "cell_type": "code",
   "execution_count": null,
   "metadata": {},
   "outputs": [
    {
     "name": "stdout",
     "output_type": "stream",
     "text": [
      "1 Misssissippi\n",
      "2 Misssissippi\n",
      "3 Misssissippi\n",
      "4 Misssissippi\n",
      "5 Misssissippi\n",
      "Pronto ou não, aqui vou eu!\n"
     ]
    }
   ],
   "source": [
    "import time \n",
    "\n",
    "for i in range (1,6):\n",
    "    print(i, \"Misssissippi\")\n",
    "    time.sleep(1) # um segundo\n",
    "print(\"Pronto ou não, aqui vou eu!\")"
   ]
  },
  {
   "cell_type": "markdown",
   "metadata": {},
   "source": [
    "### Instrução break e continue"
   ]
  },
  {
   "cell_type": "code",
   "execution_count": null,
   "metadata": {},
   "outputs": [
    {
     "name": "stdout",
     "output_type": "stream",
     "text": [
      "0\n",
      "1\n",
      "2\n",
      "Fim do programa\n"
     ]
    }
   ],
   "source": [
    "contador = 0\n",
    "\n",
    "while contador < 10:\n",
    "    print(contador)\n",
    "    contador +=1\n",
    "    if contador == 3:\n",
    "        break # se o contador foi igual a três, eu aborto a excecução e o programa para\n",
    "print (\"Fim do programa\")"
   ]
  },
  {
   "cell_type": "code",
   "execution_count": null,
   "metadata": {},
   "outputs": [
    {
     "name": "stdout",
     "output_type": "stream",
     "text": [
      "1\n",
      "2\n",
      "4\n",
      "5\n",
      "6\n",
      "7\n",
      "8\n",
      "9\n",
      "10\n",
      "Fim do programa\n"
     ]
    }
   ],
   "source": [
    "contador = 0\n",
    "\n",
    "while contador < 10:\n",
    "    contador += 1\n",
    "    if contador == 3:\n",
    "        continue # ele pula o 3 e volta para a condição de inicio\n",
    "    print(contador)\n",
    "print (\"Fim do programa\")"
   ]
  },
  {
   "cell_type": "code",
   "execution_count": 43,
   "metadata": {},
   "outputs": [
    {
     "name": "stdout",
     "output_type": "stream",
     "text": [
      "o-t-o-r-r-i-n-o-l-a-r-i-n-g-o-l-o-g-i-s-t-a-\n",
      "Fim do Programa\n",
      "atsigologniralonirroto\n"
     ]
    }
   ],
   "source": [
    "# Exemplo interessante do for\n",
    "\n",
    "palavra = \"otorrinolaringologista\"\n",
    "\n",
    "for letra in palavra:\n",
    "    print(letra,end=\"-\")\n",
    "print(\"\\nFim do Programa\")\n",
    "\n",
    "# invertendo a palavra\n",
    "pal_inv = \"\"\n",
    "for letra in palavra:\n",
    "    pal_inv = letra + pal_inv\n",
    "print(pal_inv)"
   ]
  }
 ],
 "metadata": {
  "kernelspec": {
   "display_name": ".venv",
   "language": "python",
   "name": "python3"
  },
  "language_info": {
   "codemirror_mode": {
    "name": "ipython",
    "version": 3
   },
   "file_extension": ".py",
   "mimetype": "text/x-python",
   "name": "python",
   "nbconvert_exporter": "python",
   "pygments_lexer": "ipython3",
   "version": "3.13.2"
  }
 },
 "nbformat": 4,
 "nbformat_minor": 2
}
