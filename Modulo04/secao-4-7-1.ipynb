{
 "cells": [
  {
   "cell_type": "markdown",
   "metadata": {},
   "source": [
    "# 4.7.1 - Exceções\n",
    "Tratamento de erros no Python"
   ]
  },
  {
   "cell_type": "code",
   "execution_count": null,
   "metadata": {},
   "outputs": [
    {
     "ename": "ZeroDivisionError",
     "evalue": "division by zero",
     "output_type": "error",
     "traceback": [
      "\u001b[31m---------------------------------------------------------------------------\u001b[39m",
      "\u001b[31mZeroDivisionError\u001b[39m                         Traceback (most recent call last)",
      "\u001b[36mCell\u001b[39m\u001b[36m \u001b[39m\u001b[32mIn[6]\u001b[39m\u001b[32m, line 3\u001b[39m\n\u001b[32m      1\u001b[39m \u001b[38;5;66;03m# Exemplo de erro de execução de código\u001b[39;00m\n\u001b[32m      2\u001b[39m valor = \u001b[38;5;28mint\u001b[39m(\u001b[38;5;28minput\u001b[39m(\u001b[33m\"\u001b[39m\u001b[33mDigite um valor: \u001b[39m\u001b[33m\"\u001b[39m))\n\u001b[32m----> \u001b[39m\u001b[32m3\u001b[39m \u001b[38;5;28mprint\u001b[39m(\u001b[33m\"\u001b[39m\u001b[33mO valor resultante será: \u001b[39m\u001b[33m\"\u001b[39m, \u001b[32;43m1\u001b[39;49m\u001b[43m/\u001b[49m\u001b[43mvalor\u001b[49m)\n",
      "\u001b[31mZeroDivisionError\u001b[39m: division by zero"
     ]
    }
   ],
   "source": [
    "# Exemplo de erro de execução de código\n",
    "valor = int(input(\"Digite um valor: \")) #o usuário pode digitar uma letra, ou zero, ou dar enter direto...\n",
    "print(\"O valor resultante será: \", 1/valor) #se digitar zero, não é possível dividir"
   ]
  },
  {
   "cell_type": "code",
   "execution_count": null,
   "metadata": {},
   "outputs": [
    {
     "name": "stdout",
     "output_type": "stream",
     "text": [
      "O valor resultante será:  0.1\n",
      "Fim do programa!\n"
     ]
    }
   ],
   "source": [
    "# Tratando o erro (genérico)\n",
    "try:\n",
    "    valor = int(input(\"Digite um valor: \"))\n",
    "    print(\"O valor resultante será: \", 1/valor)\n",
    "except: #qlqr erro que ocorre, será direcionado pra aqui\n",
    "    print(\"Ocorreu um erro!\")\n",
    "print(\"Fim do programa!\")\n"
   ]
  },
  {
   "cell_type": "code",
   "execution_count": null,
   "metadata": {},
   "outputs": [
    {
     "name": "stdout",
     "output_type": "stream",
     "text": [
      "Ocorreu um erro de conversão. Somente números!\n",
      "Fim do programa!\n"
     ]
    }
   ],
   "source": [
    "# Tratando o erro de valor\n",
    "try:\n",
    "    valor = int(input(\"Digite um valor: \"))\n",
    "    print(\"O valor resultante será: \", 1/valor)\n",
    "except ValueError: #\n",
    "    print(\"Ocorreu um erro de conversão. Somente números!\")\n",
    "print(\"Fim do programa!\")"
   ]
  },
  {
   "cell_type": "code",
   "execution_count": 15,
   "metadata": {},
   "outputs": [
    {
     "name": "stdout",
     "output_type": "stream",
     "text": [
      "Ocorreu um erro de conversão. Somente números!\n",
      "Fim do programa!\n"
     ]
    }
   ],
   "source": [
    "# Tratando o erro de divisão zero\n",
    "try:\n",
    "    valor = int(input(\"Digite um valor: \"))\n",
    "    print(\"O valor resultante será: \", 1/valor)\n",
    "except ValueError: #\n",
    "    print(\"Ocorreu um erro de conversão. Somente números!\")\n",
    "except ZeroDivisionError: #\n",
    "    print(\"Ocorreu um erro de divisão por zero!\")\n",
    "print(\"Fim do programa!\")"
   ]
  },
  {
   "cell_type": "code",
   "execution_count": 20,
   "metadata": {},
   "outputs": [
    {
     "name": "stdout",
     "output_type": "stream",
     "text": [
      "Ocorreu um erro de conversão. Somente números inteiros!\n",
      "Fim do programa!\n"
     ]
    }
   ],
   "source": [
    "# Index Error\n",
    "# pode ocorrer diversos outros erros, nesse caso o ideal é colocar um erro geral\n",
    "try:\n",
    "    valor = int(input(\"Digite um valor: \"))\n",
    "    print(\"O valor resultante será: \", 1/valor)\n",
    "    lista = [1,2,3]\n",
    "    print= (lista[5])\n",
    "except ValueError: #\n",
    "    print(\"Ocorreu um erro de conversão. Somente números inteiros!\")\n",
    "except ZeroDivisionError: #\n",
    "    print(\"Ocorreu um erro de divisão por zero!\")\n",
    "except Exception as e: # genérico\n",
    "    print(\"Outro erro ocorreu!\",e) # mostra na mensagem o tipo de erro\n",
    "print(\"Fim do programa!\")"
   ]
  },
  {
   "cell_type": "code",
   "execution_count": null,
   "metadata": {},
   "outputs": [
    {
     "name": "stdout",
     "output_type": "stream",
     "text": [
      "Ocorreu um erro de conversão. Somente números inteiros! ou\n",
      "Ocorreu um erro de divisão por zero!\n",
      "Fim do programa!\n"
     ]
    }
   ],
   "source": [
    "# Tratar mais de um erro no mesmo except com tuplas( )\n",
    "try:\n",
    "    valor = int(input(\"Digite um valor: \"))\n",
    "    print(\"O valor resultante será: \", 1/valor)\n",
    "    lista = [1,2,3]\n",
    "    print= (lista[5])\n",
    "except (ValueError,ZeroDivisionError): #tuplas de erros\n",
    "    print(\"Ocorreu um erro de conversão. Somente números inteiros! ou\")\n",
    "    print(\"Ocorreu um erro de divisão por zero!\")\n",
    "except Exception as e: # genérico\n",
    "    print(\"Outro erro ocorreu!\",e) # mostra na mensagem o tipo de erro\n",
    "print(\"Fim do programa!\")#"
   ]
  }
 ],
 "metadata": {
  "kernelspec": {
   "display_name": ".venv",
   "language": "python",
   "name": "python3"
  },
  "language_info": {
   "codemirror_mode": {
    "name": "ipython",
    "version": 3
   },
   "file_extension": ".py",
   "mimetype": "text/x-python",
   "name": "python",
   "nbconvert_exporter": "python",
   "pygments_lexer": "ipython3",
   "version": "3.13.2"
  }
 },
 "nbformat": 4,
 "nbformat_minor": 2
}
